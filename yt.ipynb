{
  "nbformat": 4,
  "nbformat_minor": 0,
  "metadata": {
    "colab": {
      "provenance": []
    },
    "kernelspec": {
      "name": "python3",
      "display_name": "Python 3"
    },
    "language_info": {
      "name": "python"
    }
  },
  "cells": [
    {
      "cell_type": "code",
      "execution_count": 1,
      "metadata": {
        "colab": {
          "base_uri": "https://localhost:8080/"
        },
        "id": "7DhLyxE-HNn4",
        "outputId": "be0f8730-9cee-4d66-ea40-19df8bb92d4a"
      },
      "outputs": [
        {
          "output_type": "stream",
          "name": "stdout",
          "text": [
            "Collecting yt-dlp\n",
            "  Downloading yt_dlp-2024.12.23-py3-none-any.whl.metadata (172 kB)\n",
            "\u001b[?25l     \u001b[90m━━━━━━━━━━━━━━━━━━━━━━━━━━━━━━━━━━━━━━━━\u001b[0m \u001b[32m0.0/172.1 kB\u001b[0m \u001b[31m?\u001b[0m eta \u001b[36m-:--:--\u001b[0m\r\u001b[2K     \u001b[91m━━━━━━━━━━━━━━━━━━━━━━━━━━\u001b[0m\u001b[90m╺\u001b[0m\u001b[90m━━━━━━━━━━━━━\u001b[0m \u001b[32m112.6/172.1 kB\u001b[0m \u001b[31m3.5 MB/s\u001b[0m eta \u001b[36m0:00:01\u001b[0m\r\u001b[2K     \u001b[90m━━━━━━━━━━━━━━━━━━━━━━━━━━━━━━━━━━━━━━━━\u001b[0m \u001b[32m172.1/172.1 kB\u001b[0m \u001b[31m3.1 MB/s\u001b[0m eta \u001b[36m0:00:00\u001b[0m\n",
            "\u001b[?25hDownloading yt_dlp-2024.12.23-py3-none-any.whl (3.2 MB)\n",
            "\u001b[2K   \u001b[90m━━━━━━━━━━━━━━━━━━━━━━━━━━━━━━━━━━━━━━━━\u001b[0m \u001b[32m3.2/3.2 MB\u001b[0m \u001b[31m28.4 MB/s\u001b[0m eta \u001b[36m0:00:00\u001b[0m\n",
            "\u001b[?25hInstalling collected packages: yt-dlp\n",
            "Successfully installed yt-dlp-2024.12.23\n"
          ]
        }
      ],
      "source": [
        "!pip install yt-dlp\n"
      ]
    },
    {
      "cell_type": "code",
      "source": [
        "!sudo apt-get update && sudo apt-get install ffmpeg\n"
      ],
      "metadata": {
        "colab": {
          "base_uri": "https://localhost:8080/"
        },
        "id": "Sn0kq4t-HWdB",
        "outputId": "c987ed1b-4a28-4964-e205-d26d0b4cd088"
      },
      "execution_count": 2,
      "outputs": [
        {
          "output_type": "stream",
          "name": "stdout",
          "text": [
            "\r0% [Working]\r            \rGet:1 https://cloud.r-project.org/bin/linux/ubuntu jammy-cran40/ InRelease [3,626 B]\n",
            "Get:2 https://developer.download.nvidia.com/compute/cuda/repos/ubuntu2204/x86_64  InRelease [1,581 B]\n",
            "Get:3 http://security.ubuntu.com/ubuntu jammy-security InRelease [129 kB]\n",
            "Get:4 https://r2u.stat.illinois.edu/ubuntu jammy InRelease [6,555 B]\n",
            "Get:5 https://developer.download.nvidia.com/compute/cuda/repos/ubuntu2204/x86_64  Packages [1,199 kB]\n",
            "Hit:6 http://archive.ubuntu.com/ubuntu jammy InRelease\n",
            "Get:7 http://archive.ubuntu.com/ubuntu jammy-updates InRelease [128 kB]\n",
            "Get:8 https://r2u.stat.illinois.edu/ubuntu jammy/main amd64 Packages [2,639 kB]\n",
            "Hit:9 https://ppa.launchpadcontent.net/deadsnakes/ppa/ubuntu jammy InRelease\n",
            "Hit:10 https://ppa.launchpadcontent.net/graphics-drivers/ppa/ubuntu jammy InRelease\n",
            "Get:11 http://security.ubuntu.com/ubuntu jammy-security/main amd64 Packages [2,560 kB]\n",
            "Hit:12 https://ppa.launchpadcontent.net/ubuntugis/ppa/ubuntu jammy InRelease\n",
            "Get:13 https://r2u.stat.illinois.edu/ubuntu jammy/main all Packages [8,584 kB]\n",
            "Get:14 http://archive.ubuntu.com/ubuntu jammy-backports InRelease [127 kB]\n",
            "Get:15 http://security.ubuntu.com/ubuntu jammy-security/multiverse amd64 Packages [45.2 kB]\n",
            "Get:16 http://security.ubuntu.com/ubuntu jammy-security/restricted amd64 Packages [3,527 kB]\n",
            "Get:17 http://security.ubuntu.com/ubuntu jammy-security/universe amd64 Packages [1,227 kB]\n",
            "Get:18 http://archive.ubuntu.com/ubuntu jammy-updates/main amd64 Packages [2,859 kB]\n",
            "Get:19 http://archive.ubuntu.com/ubuntu jammy-updates/restricted amd64 Packages [3,663 kB]\n",
            "Get:20 http://archive.ubuntu.com/ubuntu jammy-updates/universe amd64 Packages [1,518 kB]\n",
            "Fetched 28.2 MB in 3s (9,537 kB/s)\n",
            "Reading package lists... Done\n",
            "W: Skipping acquire of configured file 'main/source/Sources' as repository 'https://r2u.stat.illinois.edu/ubuntu jammy InRelease' does not seem to provide it (sources.list entry misspelt?)\n",
            "Reading package lists... Done\n",
            "Building dependency tree... Done\n",
            "Reading state information... Done\n",
            "ffmpeg is already the newest version (7:4.4.2-0ubuntu0.22.04.1).\n",
            "0 upgraded, 0 newly installed, 0 to remove and 51 not upgraded.\n"
          ]
        }
      ]
    },
    {
      "cell_type": "code",
      "source": [
        "!yt-dlp -f bestvideo+bestaudio --merge-output-format mp4 \"https://www.youtube.com/watch?v=Embp4LK1dnI\""
      ],
      "metadata": {
        "colab": {
          "base_uri": "https://localhost:8080/"
        },
        "id": "mb61pdfrR2nb",
        "outputId": "4abe6253-6e1b-4cc0-f6c8-062e72b2e48d"
      },
      "execution_count": 3,
      "outputs": [
        {
          "output_type": "stream",
          "name": "stdout",
          "text": [
            "[youtube] Extracting URL: https://www.youtube.com/watch?v=Embp4LK1dnI\n",
            "[youtube] Embp4LK1dnI: Downloading webpage\n",
            "[youtube] Embp4LK1dnI: Downloading ios player API JSON\n",
            "[youtube] Embp4LK1dnI: Downloading mweb player API JSON\n",
            "[youtube] Embp4LK1dnI: Downloading player 3ede36f2\n",
            "[youtube] Embp4LK1dnI: Downloading m3u8 information\n",
            "[info] Embp4LK1dnI: Downloading 1 format(s): 303+251\n",
            "[download] Destination: Apple Mini உருட்டா ？🤔 ｜ MAC MINI Post moderm ☠🛠 [Embp4LK1dnI].f303.webm\n",
            "\u001b[K[download] 100% of  296.36MiB in \u001b[1;37m00:00:06\u001b[0m at \u001b[0;32m47.33MiB/s\u001b[0m\n",
            "[download] Destination: Apple Mini உருட்டா ？🤔 ｜ MAC MINI Post moderm ☠🛠 [Embp4LK1dnI].f251.webm\n",
            "\u001b[K[download] 100% of   14.36MiB in \u001b[1;37m00:00:00\u001b[0m at \u001b[0;32m29.35MiB/s\u001b[0m\n",
            "[Merger] Merging formats into \"Apple Mini உருட்டா ？🤔 ｜ MAC MINI Post moderm ☠🛠 [Embp4LK1dnI].mp4\"\n",
            "Deleting original file Apple Mini உருட்டா ？🤔 ｜ MAC MINI Post moderm ☠🛠 [Embp4LK1dnI].f303.webm (pass -k to keep)\n",
            "Deleting original file Apple Mini உருட்டா ？🤔 ｜ MAC MINI Post moderm ☠🛠 [Embp4LK1dnI].f251.webm (pass -k to keep)\n"
          ]
        }
      ]
    },
    {
      "cell_type": "code",
      "source": [
        "!yt-dlp -x --audio-format mp3 \"https://www.youtube.com/watch?v=Embp4LK1dnI\""
      ],
      "metadata": {
        "colab": {
          "base_uri": "https://localhost:8080/"
        },
        "id": "giZvSwdSLvB-",
        "outputId": "1ffeb4f0-acb0-444d-8600-432b36abdcf3"
      },
      "execution_count": 6,
      "outputs": [
        {
          "output_type": "stream",
          "name": "stdout",
          "text": [
            "[youtube] Extracting URL: https://www.youtube.com/watch?v=Embp4LK1dnI\n",
            "[youtube] Embp4LK1dnI: Downloading webpage\n",
            "[youtube] Embp4LK1dnI: Downloading ios player API JSON\n",
            "[youtube] Embp4LK1dnI: Downloading mweb player API JSON\n",
            "[youtube] Embp4LK1dnI: Downloading m3u8 information\n",
            "[info] Embp4LK1dnI: Downloading 1 format(s): 251\n",
            "[download] Destination: Apple Mini உருட்டா ？🤔 ｜ MAC MINI Post moderm ☠🛠 [Embp4LK1dnI].webm\n",
            "\u001b[K[download] 100% of   14.36MiB in \u001b[1;37m00:00:00\u001b[0m at \u001b[0;32m21.79MiB/s\u001b[0m\n",
            "[ExtractAudio] Destination: Apple Mini உருட்டா ？🤔 ｜ MAC MINI Post moderm ☠🛠 [Embp4LK1dnI].mp3\n",
            "Deleting original file Apple Mini உருட்டா ？🤔 ｜ MAC MINI Post moderm ☠🛠 [Embp4LK1dnI].webm (pass -k to keep)\n"
          ]
        }
      ]
    }
  ]
}