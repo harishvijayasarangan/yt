{
  "nbformat": 4,
  "nbformat_minor": 0,
  "metadata": {
    "colab": {
      "provenance": []
    },
    "kernelspec": {
      "name": "python3",
      "display_name": "Python 3"
    },
    "language_info": {
      "name": "python"
    }
  },
  "cells": [
    {
      "cell_type": "code",
      "execution_count": null,
      "metadata": {
        "colab": {
          "base_uri": "https://localhost:8080/"
        },
        "id": "7DhLyxE-HNn4",
        "outputId": "e050dc94-28aa-4eda-ed16-492eaa12c5ff"
      },
      "outputs": [
        {
          "output_type": "stream",
          "name": "stdout",
          "text": [
            "Collecting yt-dlp\n",
            "  Downloading yt_dlp-2025.1.15-py3-none-any.whl.metadata (172 kB)\n",
            "\u001b[2K     \u001b[90m━━━━━━━━━━━━━━━━━━━━━━━━━━━━━━━━━━━━━━━━\u001b[0m \u001b[32m172.2/172.2 kB\u001b[0m \u001b[31m2.7 MB/s\u001b[0m eta \u001b[36m0:00:00\u001b[0m\n",
            "\u001b[?25hDownloading yt_dlp-2025.1.15-py3-none-any.whl (3.2 MB)\n",
            "\u001b[2K   \u001b[90m━━━━━━━━━━━━━━━━━━━━━━━━━━━━━━━━━━━━━━━━\u001b[0m \u001b[32m3.2/3.2 MB\u001b[0m \u001b[31m26.1 MB/s\u001b[0m eta \u001b[36m0:00:00\u001b[0m\n",
            "\u001b[?25hInstalling collected packages: yt-dlp\n",
            "Successfully installed yt-dlp-2025.1.15\n"
          ]
        }
      ],
      "source": [
        "!pip install yt-dlp\n"
      ]
    },
    {
      "cell_type": "code",
      "source": [
        "!sudo apt-get update && sudo apt-get install ffmpeg\n"
      ],
      "metadata": {
        "colab": {
          "base_uri": "https://localhost:8080/"
        },
        "id": "Sn0kq4t-HWdB",
        "outputId": "349c993e-c5b4-4d92-d66a-512c8ef7b4a8"
      },
      "execution_count": null,
      "outputs": [
        {
          "output_type": "stream",
          "name": "stdout",
          "text": [
            "\r0% [Working]\r            \rGet:1 https://cloud.r-project.org/bin/linux/ubuntu jammy-cran40/ InRelease [3,626 B]\n",
            "Get:2 https://developer.download.nvidia.com/compute/cuda/repos/ubuntu2204/x86_64  InRelease [1,581 B]\n",
            "Get:3 https://r2u.stat.illinois.edu/ubuntu jammy InRelease [6,555 B]\n",
            "Hit:4 http://archive.ubuntu.com/ubuntu jammy InRelease\n",
            "Get:5 http://security.ubuntu.com/ubuntu jammy-security InRelease [129 kB]\n",
            "Get:6 http://archive.ubuntu.com/ubuntu jammy-updates InRelease [128 kB]\n",
            "Get:7 https://cloud.r-project.org/bin/linux/ubuntu jammy-cran40/ Packages [62.5 kB]\n",
            "Hit:8 https://ppa.launchpadcontent.net/deadsnakes/ppa/ubuntu jammy InRelease\n",
            "Get:9 https://developer.download.nvidia.com/compute/cuda/repos/ubuntu2204/x86_64  Packages [1,234 kB]\n",
            "Hit:10 https://ppa.launchpadcontent.net/graphics-drivers/ppa/ubuntu jammy InRelease\n",
            "Hit:11 https://ppa.launchpadcontent.net/ubuntugis/ppa/ubuntu jammy InRelease\n",
            "Get:12 http://archive.ubuntu.com/ubuntu jammy-backports InRelease [127 kB]\n",
            "Get:13 https://r2u.stat.illinois.edu/ubuntu jammy/main all Packages [8,602 kB]\n",
            "Get:14 https://r2u.stat.illinois.edu/ubuntu jammy/main amd64 Packages [2,641 kB]\n",
            "Get:15 http://security.ubuntu.com/ubuntu jammy-security/main amd64 Packages [2,560 kB]\n",
            "Get:16 http://security.ubuntu.com/ubuntu jammy-security/universe amd64 Packages [1,228 kB]\n",
            "Get:17 http://archive.ubuntu.com/ubuntu jammy-updates/main amd64 Packages [2,859 kB]\n",
            "Get:18 http://archive.ubuntu.com/ubuntu jammy-updates/universe amd64 Packages [1,519 kB]\n",
            "Fetched 21.1 MB in 4s (5,391 kB/s)\n",
            "Reading package lists... Done\n",
            "W: Skipping acquire of configured file 'main/source/Sources' as repository 'https://r2u.stat.illinois.edu/ubuntu jammy InRelease' does not seem to provide it (sources.list entry misspelt?)\n",
            "Reading package lists... Done\n",
            "Building dependency tree... Done\n",
            "Reading state information... Done\n",
            "ffmpeg is already the newest version (7:4.4.2-0ubuntu0.22.04.1).\n",
            "0 upgraded, 0 newly installed, 0 to remove and 56 not upgraded.\n"
          ]
        }
      ]
    },
    {
      "cell_type": "code",
      "source": [
        "!yt-dlp -f bestvideo+bestaudio --merge-output-format mp4 \"https://www.youtube.com/watch?v=kPa7bsKwL-c\""
      ],
      "metadata": {
        "colab": {
          "base_uri": "https://localhost:8080/"
        },
        "id": "mb61pdfrR2nb",
        "outputId": "db3f6131-ce6d-499c-cc5d-8d129a1f84d1"
      },
      "execution_count": 5,
      "outputs": [
        {
          "output_type": "stream",
          "name": "stdout",
          "text": [
            "[youtube] Extracting URL: https://www.youtube.com/watch?v=kPa7bsKwL-c\n",
            "[youtube] kPa7bsKwL-c: Downloading webpage\n",
            "[youtube] kPa7bsKwL-c: Downloading tv player API JSON\n",
            "[youtube] kPa7bsKwL-c: Downloading ios player API JSON\n",
            "[youtube] kPa7bsKwL-c: Downloading m3u8 information\n",
            "[info] kPa7bsKwL-c: Downloading 1 format(s): 401+251\n",
            "[download] Destination: Lady Gaga, Bruno Mars - Die With A Smile (Official Music Video) [kPa7bsKwL-c].f401.mp4\n",
            "\u001b[K[download] 100% of  168.49MiB in \u001b[1;37m00:00:02\u001b[0m at \u001b[0;32m73.20MiB/s\u001b[0m\n",
            "[download] Destination: Lady Gaga, Bruno Mars - Die With A Smile (Official Music Video) [kPa7bsKwL-c].f251.webm\n",
            "\u001b[K[download] 100% of    3.92MiB in \u001b[1;37m00:00:00\u001b[0m at \u001b[0;32m37.80MiB/s\u001b[0m\n",
            "[Merger] Merging formats into \"Lady Gaga, Bruno Mars - Die With A Smile (Official Music Video) [kPa7bsKwL-c].mp4\"\n",
            "Deleting original file Lady Gaga, Bruno Mars - Die With A Smile (Official Music Video) [kPa7bsKwL-c].f251.webm (pass -k to keep)\n",
            "Deleting original file Lady Gaga, Bruno Mars - Die With A Smile (Official Music Video) [kPa7bsKwL-c].f401.mp4 (pass -k to keep)\n"
          ]
        }
      ]
    },
    {
      "cell_type": "code",
      "source": [
        "!yt-dlp -x --audio-format mp3 \"https://www.youtube.com/watch?v=kPa7bsKwL-c\""
      ],
      "metadata": {
        "colab": {
          "base_uri": "https://localhost:8080/"
        },
        "id": "giZvSwdSLvB-",
        "outputId": "0a18664c-bf51-40cc-d754-b128c49077a3"
      },
      "execution_count": 6,
      "outputs": [
        {
          "output_type": "stream",
          "name": "stdout",
          "text": [
            "[youtube] Extracting URL: https://www.youtube.com/watch?v=kPa7bsKwL-c\n",
            "[youtube] kPa7bsKwL-c: Downloading webpage\n",
            "[youtube] kPa7bsKwL-c: Downloading tv player API JSON\n",
            "[youtube] kPa7bsKwL-c: Downloading ios player API JSON\n",
            "[youtube] kPa7bsKwL-c: Downloading m3u8 information\n",
            "[info] kPa7bsKwL-c: Downloading 1 format(s): 251\n",
            "[download] Destination: Lady Gaga, Bruno Mars - Die With A Smile (Official Music Video) [kPa7bsKwL-c].webm\n",
            "\u001b[K[download] 100% of    3.92MiB in \u001b[1;37m00:00:00\u001b[0m at \u001b[0;32m26.62MiB/s\u001b[0m\n",
            "[ExtractAudio] Destination: Lady Gaga, Bruno Mars - Die With A Smile (Official Music Video) [kPa7bsKwL-c].mp3\n",
            "Deleting original file Lady Gaga, Bruno Mars - Die With A Smile (Official Music Video) [kPa7bsKwL-c].webm (pass -k to keep)\n"
          ]
        }
      ]
    }
  ]
}